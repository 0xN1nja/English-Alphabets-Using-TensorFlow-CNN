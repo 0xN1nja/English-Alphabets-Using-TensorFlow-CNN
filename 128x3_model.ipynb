{
 "cells": [
  {
   "cell_type": "code",
   "execution_count": 2,
   "id": "59627347",
   "metadata": {},
   "outputs": [],
   "source": [
    "import tensorflow as tf\n",
    "import cv2\n",
    "import numpy as np\n",
    "import random\n",
    "import matplotlib.pyplot as plt\n",
    "import os"
   ]
  },
  {
   "cell_type": "markdown",
   "id": "577817c9",
   "metadata": {},
   "source": [
    "# Create Training Dataset"
   ]
  },
  {
   "cell_type": "code",
   "execution_count": 3,
   "id": "39287230",
   "metadata": {},
   "outputs": [],
   "source": [
    "train_dir=r\"C:\\Users\\speed\\Documents\\English Alphabets Using TensorFlow CNN\\data\\train\"\n",
    "labels=[\"A\",\"B\",\"C\",\"D\",\"E\",\"F\",\"G\",\"H\",\"I\",\"J\",\"K\",\"L\",\"M\",\"N\",\"O\",\"P\",\"Q\",\"R\",\"S\",\"T\",\"U\",\"V\",\"W\",\"X\",\"Y\",\"Z\"]\n",
    "train=[]\n",
    "assert len(labels)==26"
   ]
  },
  {
   "cell_type": "code",
   "execution_count": 4,
   "id": "0e7fe604",
   "metadata": {},
   "outputs": [],
   "source": [
    "for i in labels:\n",
    "    for j in os.listdir(os.path.join(train_dir,i)):\n",
    "        class_num=labels.index(i)\n",
    "        img=cv2.imread(os.path.join(train_dir,i,j),cv2.IMREAD_GRAYSCALE)\n",
    "        train.append([img,class_num])"
   ]
  },
  {
   "cell_type": "code",
   "execution_count": 5,
   "id": "91e9cac9",
   "metadata": {},
   "outputs": [],
   "source": [
    "random.shuffle(train)\n",
    "x=[]\n",
    "y=[]\n",
    "for i,j in train:\n",
    "    x.append(i)\n",
    "    y.append(j)\n",
    "x=np.array(x)\n",
    "y=np.array(y)\n",
    "X=x/255"
   ]
  },
  {
   "cell_type": "markdown",
   "id": "187e2f47",
   "metadata": {},
   "source": [
    "# Initialize TensorBoard For Graphs"
   ]
  },
  {
   "cell_type": "code",
   "execution_count": 6,
   "id": "3a8eb98a",
   "metadata": {},
   "outputs": [],
   "source": [
    "tsb=tf.keras.callbacks.TensorBoard(log_dir=\"logs\")"
   ]
  },
  {
   "cell_type": "markdown",
   "id": "bd87b5d9",
   "metadata": {},
   "source": [
    "# Create Model (128x3)"
   ]
  },
  {
   "cell_type": "code",
   "execution_count": 7,
   "id": "8d97a7cf",
   "metadata": {},
   "outputs": [],
   "source": [
    "model=tf.keras.models.Sequential([\n",
    "    tf.keras.layers.Conv2D(128,(3,3),input_shape=(34,34,1),activation=tf.nn.relu),\n",
    "    tf.keras.layers.MaxPool2D(),\n",
    "    tf.keras.layers.Conv2D(128,(3,3),activation=tf.nn.relu),\n",
    "    tf.keras.layers.MaxPool2D(),\n",
    "    tf.keras.layers.Conv2D(128,(3,3),activation=tf.nn.relu),\n",
    "    tf.keras.layers.MaxPool2D(),\n",
    "    tf.keras.layers.Dropout(0.25),\n",
    "    tf.keras.layers.Flatten(),\n",
    "    tf.keras.layers.Dense(1024,activation=tf.nn.relu),\n",
    "    tf.keras.layers.Dense(26,activation=tf.nn.softmax)\n",
    "])"
   ]
  },
  {
   "cell_type": "markdown",
   "id": "5b0112d1",
   "metadata": {},
   "source": [
    "# Compile The Model"
   ]
  },
  {
   "cell_type": "code",
   "execution_count": 8,
   "id": "b2b38d5b",
   "metadata": {},
   "outputs": [],
   "source": [
    "model.compile(optimizer=\"adam\",loss=\"sparse_categorical_crossentropy\",metrics=[\"accuracy\"])"
   ]
  },
  {
   "cell_type": "markdown",
   "id": "c331e1f0",
   "metadata": {},
   "source": [
    "# Train The Model"
   ]
  },
  {
   "cell_type": "code",
   "execution_count": 9,
   "id": "f6d9ffa1",
   "metadata": {},
   "outputs": [
    {
     "name": "stdout",
     "output_type": "stream",
     "text": [
      "Epoch 1/10\n",
      "150/150 [==============================] - 60s 391ms/step - loss: 1.3375 - accuracy: 0.6030 - val_loss: 0.6064 - val_accuracy: 0.8098\n",
      "Epoch 2/10\n",
      "150/150 [==============================] - 53s 354ms/step - loss: 0.5608 - accuracy: 0.8245 - val_loss: 0.4552 - val_accuracy: 0.8746\n",
      "Epoch 3/10\n",
      "150/150 [==============================] - 48s 319ms/step - loss: 0.3907 - accuracy: 0.8762 - val_loss: 0.3569 - val_accuracy: 0.8834\n",
      "Epoch 4/10\n",
      "150/150 [==============================] - 51s 338ms/step - loss: 0.3070 - accuracy: 0.8981 - val_loss: 0.3240 - val_accuracy: 0.9122\n",
      "Epoch 5/10\n",
      "150/150 [==============================] - 65s 437ms/step - loss: 0.2538 - accuracy: 0.9205 - val_loss: 0.3545 - val_accuracy: 0.8873\n",
      "Epoch 6/10\n",
      "150/150 [==============================] - 49s 330ms/step - loss: 0.2113 - accuracy: 0.9291 - val_loss: 0.3402 - val_accuracy: 0.9078\n",
      "Epoch 7/10\n",
      "150/150 [==============================] - 49s 327ms/step - loss: 0.1727 - accuracy: 0.9368 - val_loss: 0.3355 - val_accuracy: 0.9059\n",
      "Epoch 8/10\n",
      "150/150 [==============================] - 44s 295ms/step - loss: 0.1451 - accuracy: 0.9462 - val_loss: 0.2900 - val_accuracy: 0.9263\n",
      "Epoch 9/10\n",
      "150/150 [==============================] - 44s 294ms/step - loss: 0.1177 - accuracy: 0.9584 - val_loss: 0.2797 - val_accuracy: 0.9254\n",
      "Epoch 10/10\n",
      "150/150 [==============================] - 46s 306ms/step - loss: 0.1157 - accuracy: 0.9596 - val_loss: 0.2729 - val_accuracy: 0.9283\n"
     ]
    }
   ],
   "source": [
    "history=model.fit(X,y,epochs=10,validation_split=0.3,callbacks=[tsb])"
   ]
  },
  {
   "cell_type": "markdown",
   "id": "458f5e1e",
   "metadata": {},
   "source": [
    "# Get Summary Of Model"
   ]
  },
  {
   "cell_type": "code",
   "execution_count": 10,
   "id": "c27e43d7",
   "metadata": {},
   "outputs": [
    {
     "name": "stdout",
     "output_type": "stream",
     "text": [
      "Model: \"sequential\"\n",
      "_________________________________________________________________\n",
      " Layer (type)                Output Shape              Param #   \n",
      "=================================================================\n",
      " conv2d (Conv2D)             (None, 32, 32, 128)       1280      \n",
      "                                                                 \n",
      " max_pooling2d (MaxPooling2D  (None, 16, 16, 128)      0         \n",
      " )                                                               \n",
      "                                                                 \n",
      " conv2d_1 (Conv2D)           (None, 14, 14, 128)       147584    \n",
      "                                                                 \n",
      " max_pooling2d_1 (MaxPooling  (None, 7, 7, 128)        0         \n",
      " 2D)                                                             \n",
      "                                                                 \n",
      " conv2d_2 (Conv2D)           (None, 5, 5, 128)         147584    \n",
      "                                                                 \n",
      " max_pooling2d_2 (MaxPooling  (None, 2, 2, 128)        0         \n",
      " 2D)                                                             \n",
      "                                                                 \n",
      " dropout (Dropout)           (None, 2, 2, 128)         0         \n",
      "                                                                 \n",
      " flatten (Flatten)           (None, 512)               0         \n",
      "                                                                 \n",
      " dense (Dense)               (None, 1024)              525312    \n",
      "                                                                 \n",
      " dense_1 (Dense)             (None, 26)                26650     \n",
      "                                                                 \n",
      "=================================================================\n",
      "Total params: 848,410\n",
      "Trainable params: 848,410\n",
      "Non-trainable params: 0\n",
      "_________________________________________________________________\n"
     ]
    }
   ],
   "source": [
    "model.summary()"
   ]
  },
  {
   "cell_type": "markdown",
   "id": "36673847",
   "metadata": {},
   "source": [
    "# Accuracy Graph"
   ]
  },
  {
   "cell_type": "code",
   "execution_count": 11,
   "id": "c1b0ecb1",
   "metadata": {},
   "outputs": [
    {
     "data": {
      "text/plain": [
       "<matplotlib.legend.Legend at 0x198a620b6d0>"
      ]
     },
     "execution_count": 11,
     "metadata": {},
     "output_type": "execute_result"
    },
    {
     "data": {
      "image/png": "[encoded data removed]",
      "text/plain": [
       "<Figure size 432x288 with 1 Axes>"
      ]
     },
     "metadata": {
      "needs_background": "light"
     },
     "output_type": "display_data"
    }
   ],
   "source": [
    "plt.plot(history.history[\"accuracy\"])\n",
    "plt.plot(history.history[\"val_accuracy\"])\n",
    "plt.title(\"Model Accuracy\")\n",
    "plt.ylabel(\"Accuracy\")\n",
    "plt.xlabel(\"Epoch\")\n",
    "plt.legend([\"Train\",\"Validation\"],loc=\"best\")"
   ]
  },
  {
   "cell_type": "markdown",
   "id": "2023a204",
   "metadata": {},
   "source": [
    "# Loss Graph"
   ]
  },
  {
   "cell_type": "code",
   "execution_count": 12,
   "id": "ee3e7363",
   "metadata": {},
   "outputs": [
    {
     "data": {
      "text/plain": [
       "<matplotlib.legend.Legend at 0x198a6411730>"
      ]
     },
     "execution_count": 12,
     "metadata": {},
     "output_type": "execute_result"
    },
    {
     "data": {
      "image/png": "[encoded data removed]",
      "text/plain": [
       "<Figure size 432x288 with 1 Axes>"
      ]
     },
     "metadata": {
      "needs_background": "light"
     },
     "output_type": "display_data"
    }
   ],
   "source": [
    "plt.plot(history.history[\"loss\"])\n",
    "plt.plot(history.history[\"val_loss\"])\n",
    "plt.title(\"Model Loss\")\n",
    "plt.ylabel(\"Loss\")\n",
    "plt.xlabel(\"Epoch\")\n",
    "plt.legend([\"Train\",\"Validation\"],loc=\"best\")"
   ]
  },
  {
   "cell_type": "markdown",
   "id": "d1500665",
   "metadata": {},
   "source": [
    "# Create Test Dataset"
   ]
  },
  {
   "cell_type": "code",
   "execution_count": 13,
   "id": "e90c6f72",
   "metadata": {},
   "outputs": [],
   "source": [
    "test_dir=r\"C:\\Users\\speed\\Documents\\English Alphabets Using TensorFlow CNN\\data\\test\"\n",
    "test=[]"
   ]
  },
  {
   "cell_type": "code",
   "execution_count": 14,
   "id": "370926fc",
   "metadata": {},
   "outputs": [],
   "source": [
    "for i in labels:\n",
    "    for j in os.listdir(os.path.join(test_dir,i)):\n",
    "        class_num=labels.index(i)\n",
    "        img=cv2.imread(os.path.join(test_dir,i,j),cv2.IMREAD_GRAYSCALE)\n",
    "        test.append([img,class_num])"
   ]
  },
  {
   "cell_type": "code",
   "execution_count": 15,
   "id": "a23c7f26",
   "metadata": {},
   "outputs": [],
   "source": [
    "random.shuffle(test)\n",
    "_x=[]\n",
    "_y=[]\n",
    "for i,j in test:\n",
    "    _x.append(i)\n",
    "    _y.append(j)\n",
    "_x=np.array(x)\n",
    "_y=np.array(y)\n",
    "_X=_x/255"
   ]
  },
  {
   "cell_type": "markdown",
   "id": "c329975e",
   "metadata": {},
   "source": [
    "# Predictions"
   ]
  },
  {
   "cell_type": "markdown",
   "id": "40e0103e",
   "metadata": {},
   "source": [
    "### By Model"
   ]
  },
  {
   "cell_type": "code",
   "execution_count": 16,
   "id": "859abf28",
   "metadata": {},
   "outputs": [
    {
     "name": "stdout",
     "output_type": "stream",
     "text": [
      "G\n"
     ]
    }
   ],
   "source": [
    "print(labels[np.argmax(model.predict(_X)[12])])"
   ]
  },
  {
   "cell_type": "markdown",
   "id": "d35cfe8f",
   "metadata": {},
   "source": [
    "### Real One"
   ]
  },
  {
   "cell_type": "code",
   "execution_count": 17,
   "id": "9511a18d",
   "metadata": {},
   "outputs": [
    {
     "name": "stdout",
     "output_type": "stream",
     "text": [
      "G\n"
     ]
    },
    {
     "data": {
      "image/png": "[encoded data removed]",
      "text/plain": [
       "<Figure size 432x288 with 1 Axes>"
      ]
     },
     "metadata": {
      "needs_background": "light"
     },
     "output_type": "display_data"
    }
   ],
   "source": [
    "plt.imshow(_X[12])\n",
    "print(labels[_y[12]])"
   ]
  },
  {
   "cell_type": "markdown",
   "id": "2a4ba973",
   "metadata": {},
   "source": [
    "# Save"
   ]
  },
  {
   "cell_type": "code",
   "execution_count": 18,
   "id": "a2368db2",
   "metadata": {},
   "outputs": [],
   "source": [
    "model.save(\"128x3-CNN.h5\")"
   ]
  },
  {
   "cell_type": "markdown",
   "id": "58b7f2ea",
   "metadata": {},
   "source": [
    "# Convert To TFLite Model For Edge Devices"
   ]
  },
  {
   "cell_type": "code",
   "execution_count": 19,
   "id": "1489c56d",
   "metadata": {},
   "outputs": [
    {
     "name": "stdout",
     "output_type": "stream",
     "text": [
      "INFO:tensorflow:Assets written to: C:\\Users\\speed\\AppData\\Local\\Temp\\tmpbssj9kwg\\assets\n"
     ]
    },
    {
     "name": "stderr",
     "output_type": "stream",
     "text": [
      "WARNING:absl:Buffer deduplication procedure will be skipped when flatbuffer library is not properly loaded\n"
     ]
    }
   ],
   "source": [
    "tf_lite_converter=tf.lite.TFLiteConverter.from_keras_model(model)\n",
    "with open(\"128x3-CNN.tflite\",\"wb\") as f:\n",
    "    f.write(tf_lite_converter.convert())"
   ]
  }
 ],
 "metadata": {
  "kernelspec": {
   "display_name": "Python 3 (ipykernel)",
   "language": "python",
   "name": "python3"
  },
  "language_info": {
   "codemirror_mode": {
    "name": "ipython",
    "version": 3
   },
   "file_extension": ".py",
   "mimetype": "text/x-python",
   "name": "python",
   "nbconvert_exporter": "python",
   "pygments_lexer": "ipython3",
   "version": "3.9.7"
  }
 },
 "nbformat": 4,
 "nbformat_minor": 5
}
