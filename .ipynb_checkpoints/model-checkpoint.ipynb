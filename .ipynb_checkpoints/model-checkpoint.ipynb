{
 "cells": [
  {
   "cell_type": "code",
   "execution_count": 1,
   "id": "0f30fc55",
   "metadata": {},
   "outputs": [],
   "source": [
    "import tensorflow as tf\n",
    "import numpy as np\n",
    "import cv2\n",
    "import matplotlib.pyplot as plt\n",
    "import os"
   ]
  },
  {
   "cell_type": "code",
   "execution_count": 6,
   "id": "8a242837",
   "metadata": {},
   "outputs": [
    {
     "data": {
      "text/plain": [
       "(None, 34, 34, 1)"
      ]
     },
     "execution_count": 6,
     "metadata": {},
     "output_type": "execute_result"
    }
   ],
   "source": [
    "model:tf.keras.models.Model=tf.keras.models.load_model(\"128x3-CNN.h5\")\n",
    "model.input_shape"
   ]
  },
  {
   "cell_type": "code",
   "execution_count": 11,
   "id": "a0e99c89",
   "metadata": {},
   "outputs": [
    {
     "data": {
      "text/plain": [
       "15"
      ]
     },
     "execution_count": 11,
     "metadata": {},
     "output_type": "execute_result"
    }
   ],
   "source": [
    "def prepare(filepath):\n",
    "    img=cv2.imread(filepath,cv2.IMREAD_GRAYSCALE)\n",
    "    return img.reshape(-1,34,34,1)\n",
    "np.argmax(model.predict(prepare(r\"C:\\Users\\speed\\Documents\\English Alphabets Using TensorFlow CNN\\data\\test\\P\\623.jpg\")))"
   ]
  }
 ],
 "metadata": {
  "kernelspec": {
   "display_name": "Python 3 (ipykernel)",
   "language": "python",
   "name": "python3"
  },
  "language_info": {
   "codemirror_mode": {
    "name": "ipython",
    "version": 3
   },
   "file_extension": ".py",
   "mimetype": "text/x-python",
   "name": "python",
   "nbconvert_exporter": "python",
   "pygments_lexer": "ipython3",
   "version": "3.9.7"
  }
 },
 "nbformat": 4,
 "nbformat_minor": 5
}
