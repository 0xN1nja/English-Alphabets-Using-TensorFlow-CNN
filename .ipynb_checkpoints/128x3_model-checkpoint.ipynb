{
 "cells": [
  {
   "cell_type": "code",
   "execution_count": 1,
   "id": "59627347",
   "metadata": {},
   "outputs": [],
   "source": [
    "import tensorflow as tf\n",
    "import cv2\n",
    "import numpy as np\n",
    "import random\n",
    "import matplotlib.pyplot as plt\n",
    "import os"
   ]
  },
  {
   "cell_type": "markdown",
   "id": "577817c9",
   "metadata": {},
   "source": [
    "# Create Training Dataset"
   ]
  },
  {
   "cell_type": "code",
   "execution_count": 2,
   "id": "39287230",
   "metadata": {},
   "outputs": [],
   "source": [
    "train_dir=r\"C:\\Users\\speed\\Documents\\English Alphabets Using TensorFlow CNN\\data\\train\"\n",
    "labels=[\"A\",\"B\",\"C\",\"D\",\"E\",\"F\",\"G\",\"H\",\"I\",\"J\",\"K\",\"L\",\"M\",\"N\",\"O\",\"P\",\"Q\",\"R\",\"S\",\"T\",\"U\",\"V\",\"W\",\"X\",\"Y\",\"Z\"]\n",
    "train=[]\n",
    "assert len(labels)==26"
   ]
  },
  {
   "cell_type": "code",
   "execution_count": 15,
   "id": "ad4d3754",
   "metadata": {},
   "outputs": [],
   "source": [
    "tsb=tf.keras.callbacks.TensorBoard(log_dir=\"logs\")"
   ]
  },
  {
   "cell_type": "code",
   "execution_count": 16,
   "id": "0e7fe604",
   "metadata": {},
   "outputs": [],
   "source": [
    "for i in labels:\n",
    "    for j in os.listdir(os.path.join(train_dir,i)):\n",
    "        class_num=labels.index(i)\n",
    "        img=cv2.imread(os.path.join(train_dir,i,j),cv2.IMREAD_GRAYSCALE)\n",
    "        train.append([img,class_num])"
   ]
  },
  {
   "cell_type": "code",
   "execution_count": 17,
   "id": "91e9cac9",
   "metadata": {},
   "outputs": [],
   "source": [
    "random.shuffle(train)\n",
    "x=[]\n",
    "y=[]\n",
    "for i,j in train:\n",
    "    x.append(i)\n",
    "    y.append(j)\n",
    "x=np.array(x)\n",
    "y=np.array(y)\n",
    "X=x/255"
   ]
  },
  {
   "cell_type": "markdown",
   "id": "bd87b5d9",
   "metadata": {},
   "source": [
    "# Create Model (128x3)"
   ]
  },
  {
   "cell_type": "code",
   "execution_count": 21,
   "id": "8d97a7cf",
   "metadata": {},
   "outputs": [],
   "source": [
    "model=tf.keras.models.Sequential([\n",
    "    tf.keras.layers.Conv2D(128,(3,3),input_shape=(34,34,1),activation=tf.nn.relu),\n",
    "    tf.keras.layers.MaxPool2D(),\n",
    "    tf.keras.layers.Conv2D(128,(3,3),activation=tf.nn.relu),\n",
    "    tf.keras.layers.MaxPool2D(),\n",
    "    tf.keras.layers.Conv2D(128,(3,3),activation=tf.nn.relu),\n",
    "    tf.keras.layers.MaxPool2D(),\n",
    "    tf.keras.layers.Dropout(0.25),\n",
    "    tf.keras.layers.Flatten(),\n",
    "    tf.keras.layers.Dense(1024,activation=tf.nn.relu),\n",
    "    tf.keras.layers.Dense(26,activation=tf.nn.softmax)\n",
    "])"
   ]
  },
  {
   "cell_type": "markdown",
   "id": "5b0112d1",
   "metadata": {},
   "source": [
    "# Compile The Model"
   ]
  },
  {
   "cell_type": "code",
   "execution_count": 22,
   "id": "b2b38d5b",
   "metadata": {},
   "outputs": [],
   "source": [
    "model.compile(optimizer=\"adam\",loss=\"sparse_categorical_crossentropy\",metrics=[\"accuracy\"])"
   ]
  },
  {
   "cell_type": "markdown",
   "id": "c331e1f0",
   "metadata": {},
   "source": [
    "# Train The Model"
   ]
  },
  {
   "cell_type": "code",
   "execution_count": 23,
   "id": "f6d9ffa1",
   "metadata": {},
   "outputs": [
    {
     "name": "stdout",
     "output_type": "stream",
     "text": [
      "Epoch 1/10\n",
      "299/299 [==============================] - 51s 168ms/step - loss: 0.9444 - accuracy: 0.7198 - val_loss: 0.3843 - val_accuracy: 0.8802\n",
      "Epoch 2/10\n",
      "299/299 [==============================] - 60s 201ms/step - loss: 0.3679 - accuracy: 0.8865 - val_loss: 0.2608 - val_accuracy: 0.9151\n",
      "Epoch 3/10\n",
      "299/299 [==============================] - 57s 191ms/step - loss: 0.2507 - accuracy: 0.9175 - val_loss: 0.1723 - val_accuracy: 0.9456\n",
      "Epoch 4/10\n",
      "299/299 [==============================] - 100s 334ms/step - loss: 0.1813 - accuracy: 0.9412 - val_loss: 0.1355 - val_accuracy: 0.9610\n",
      "Epoch 5/10\n",
      "299/299 [==============================] - 134s 450ms/step - loss: 0.1494 - accuracy: 0.9498 - val_loss: 0.1310 - val_accuracy: 0.9571\n",
      "Epoch 6/10\n",
      "299/299 [==============================] - 134s 448ms/step - loss: 0.1214 - accuracy: 0.9586 - val_loss: 0.1005 - val_accuracy: 0.9676\n",
      "Epoch 7/10\n",
      "299/299 [==============================] - 130s 436ms/step - loss: 0.0951 - accuracy: 0.9680 - val_loss: 0.1153 - val_accuracy: 0.9666\n",
      "Epoch 8/10\n",
      "299/299 [==============================] - 132s 440ms/step - loss: 0.0883 - accuracy: 0.9694 - val_loss: 0.0785 - val_accuracy: 0.9756\n",
      "Epoch 9/10\n",
      "299/299 [==============================] - 131s 438ms/step - loss: 0.0763 - accuracy: 0.9731 - val_loss: 0.0929 - val_accuracy: 0.9707\n",
      "Epoch 10/10\n",
      "299/299 [==============================] - 129s 433ms/step - loss: 0.0671 - accuracy: 0.9788 - val_loss: 0.1187 - val_accuracy: 0.9690\n"
     ]
    }
   ],
   "source": [
    "history=model.fit(X,y,epochs=10,validation_split=0.3,callbacks=[tsb])"
   ]
  },
  {
   "cell_type": "markdown",
   "id": "458f5e1e",
   "metadata": {},
   "source": [
    "# Get Summary Of Model"
   ]
  },
  {
   "cell_type": "code",
   "execution_count": 24,
   "id": "c27e43d7",
   "metadata": {},
   "outputs": [
    {
     "name": "stdout",
     "output_type": "stream",
     "text": [
      "Model: \"sequential_2\"\n",
      "_________________________________________________________________\n",
      " Layer (type)                Output Shape              Param #   \n",
      "=================================================================\n",
      " conv2d_6 (Conv2D)           (None, 32, 32, 128)       1280      \n",
      "                                                                 \n",
      " max_pooling2d_6 (MaxPooling  (None, 16, 16, 128)      0         \n",
      " 2D)                                                             \n",
      "                                                                 \n",
      " conv2d_7 (Conv2D)           (None, 14, 14, 128)       147584    \n",
      "                                                                 \n",
      " max_pooling2d_7 (MaxPooling  (None, 7, 7, 128)        0         \n",
      " 2D)                                                             \n",
      "                                                                 \n",
      " conv2d_8 (Conv2D)           (None, 5, 5, 128)         147584    \n",
      "                                                                 \n",
      " max_pooling2d_8 (MaxPooling  (None, 2, 2, 128)        0         \n",
      " 2D)                                                             \n",
      "                                                                 \n",
      " dropout_2 (Dropout)         (None, 2, 2, 128)         0         \n",
      "                                                                 \n",
      " flatten_2 (Flatten)         (None, 512)               0         \n",
      "                                                                 \n",
      " dense_4 (Dense)             (None, 1024)              525312    \n",
      "                                                                 \n",
      " dense_5 (Dense)             (None, 26)                26650     \n",
      "                                                                 \n",
      "=================================================================\n",
      "Total params: 848,410\n",
      "Trainable params: 848,410\n",
      "Non-trainable params: 0\n",
      "_________________________________________________________________\n"
     ]
    }
   ],
   "source": [
    "model.summary()"
   ]
  },
  {
   "cell_type": "markdown",
   "id": "36673847",
   "metadata": {},
   "source": [
    "# Accuracy Graph"
   ]
  },
  {
   "cell_type": "code",
   "execution_count": 25,
   "id": "c1b0ecb1",
   "metadata": {},
   "outputs": [
    {
     "data": {
      "text/plain": [
       "<matplotlib.legend.Legend at 0x24a3706ad30>"
      ]
     },
     "execution_count": 25,
     "metadata": {},
     "output_type": "execute_result"
    },
    {
     "data": {
      "image/png": "[encoded data removed]",
      "text/plain": [
       "<Figure size 432x288 with 1 Axes>"
      ]
     },
     "metadata": {
      "needs_background": "light"
     },
     "output_type": "display_data"
    }
   ],
   "source": [
    "plt.plot(history.history[\"accuracy\"])\n",
    "plt.plot(history.history[\"val_accuracy\"])\n",
    "plt.title(\"Model Accuracy\")\n",
    "plt.ylabel(\"Accuracy\")\n",
    "plt.xlabel(\"Epoch\")\n",
    "plt.legend([\"Train\",\"Validation\"],loc=\"best\")"
   ]
  },
  {
   "cell_type": "markdown",
   "id": "2023a204",
   "metadata": {},
   "source": [
    "# Loss Graph"
   ]
  },
  {
   "cell_type": "code",
   "execution_count": 26,
   "id": "ee3e7363",
   "metadata": {},
   "outputs": [
    {
     "data": {
      "text/plain": [
       "<matplotlib.legend.Legend at 0x24a3709e8b0>"
      ]
     },
     "execution_count": 26,
     "metadata": {},
     "output_type": "execute_result"
    },
    {
     "data": {
      "image/png": "[encoded data removed]",
      "text/plain": [
       "<Figure size 432x288 with 1 Axes>"
      ]
     },
     "metadata": {
      "needs_background": "light"
     },
     "output_type": "display_data"
    }
   ],
   "source": [
    "plt.plot(history.history[\"loss\"])\n",
    "plt.plot(history.history[\"val_loss\"])\n",
    "plt.title(\"Model Loss\")\n",
    "plt.ylabel(\"Loss\")\n",
    "plt.xlabel(\"Epoch\")\n",
    "plt.legend([\"Train\",\"Validation\"],loc=\"best\")"
   ]
  },
  {
   "cell_type": "markdown",
   "id": "d1500665",
   "metadata": {},
   "source": [
    "# Create Test Dataset"
   ]
  },
  {
   "cell_type": "code",
   "execution_count": 42,
   "id": "e90c6f72",
   "metadata": {},
   "outputs": [],
   "source": [
    "test_dir=r\"C:\\Users\\speed\\Documents\\English Alphabets Using TensorFlow CNN\\data\\test\"\n",
    "test=[]"
   ]
  },
  {
   "cell_type": "code",
   "execution_count": 43,
   "id": "370926fc",
   "metadata": {},
   "outputs": [],
   "source": [
    "for i in labels:\n",
    "    for j in os.listdir(os.path.join(test_dir,i)):\n",
    "        class_num=labels.index(i)\n",
    "        img=cv2.imread(os.path.join(test_dir,i,j),cv2.IMREAD_GRAYSCALE)\n",
    "        test.append([img,class_num])"
   ]
  },
  {
   "cell_type": "code",
   "execution_count": 44,
   "id": "a23c7f26",
   "metadata": {},
   "outputs": [],
   "source": [
    "random.shuffle(test)\n",
    "_x=[]\n",
    "_y=[]\n",
    "for i,j in test:\n",
    "    _x.append(i)\n",
    "    _y.append(j)\n",
    "_x=np.array(x)\n",
    "_y=np.array(y)\n",
    "_X=_x/255"
   ]
  },
  {
   "cell_type": "markdown",
   "id": "c329975e",
   "metadata": {},
   "source": [
    "# Predictions"
   ]
  },
  {
   "cell_type": "markdown",
   "id": "40e0103e",
   "metadata": {},
   "source": [
    "### By Model"
   ]
  },
  {
   "cell_type": "code",
   "execution_count": 45,
   "id": "859abf28",
   "metadata": {},
   "outputs": [
    {
     "name": "stdout",
     "output_type": "stream",
     "text": [
      "K\n"
     ]
    }
   ],
   "source": [
    "print(labels[np.argmax(model.predict(_X)[12])])"
   ]
  },
  {
   "cell_type": "markdown",
   "id": "d35cfe8f",
   "metadata": {},
   "source": [
    "### Real One"
   ]
  },
  {
   "cell_type": "code",
   "execution_count": 46,
   "id": "9511a18d",
   "metadata": {},
   "outputs": [
    {
     "name": "stdout",
     "output_type": "stream",
     "text": [
      "K\n"
     ]
    },
    {
     "data": {
      "image/png": "[encoded data removed]",
      "text/plain": [
       "<Figure size 432x288 with 1 Axes>"
      ]
     },
     "metadata": {
      "needs_background": "light"
     },
     "output_type": "display_data"
    }
   ],
   "source": [
    "plt.imshow(_X[12])\n",
    "print(labels[_y[12]])"
   ]
  },
  {
   "cell_type": "markdown",
   "id": "2a4ba973",
   "metadata": {},
   "source": [
    "# Save"
   ]
  },
  {
   "cell_type": "code",
   "execution_count": 47,
   "id": "a2368db2",
   "metadata": {},
   "outputs": [],
   "source": [
    "model.save(\"128x3-CNN.h5\")"
   ]
  },
  {
   "cell_type": "markdown",
   "id": "58b7f2ea",
   "metadata": {},
   "source": [
    "# Convert To TFLite Model For Edge Devices"
   ]
  },
  {
   "cell_type": "code",
   "execution_count": 48,
   "id": "1489c56d",
   "metadata": {},
   "outputs": [
    {
     "name": "stdout",
     "output_type": "stream",
     "text": [
      "INFO:tensorflow:Assets written to: C:\\Users\\speed\\AppData\\Local\\Temp\\tmpgrdo_ai7\\assets\n"
     ]
    },
    {
     "name": "stderr",
     "output_type": "stream",
     "text": [
      "INFO:tensorflow:Assets written to: C:\\Users\\speed\\AppData\\Local\\Temp\\tmpgrdo_ai7\\assets\n",
      "WARNING:absl:Buffer deduplication procedure will be skipped when flatbuffer library is not properly loaded\n"
     ]
    }
   ],
   "source": [
    "tf_lite_converter=tf.lite.TFLiteConverter.from_keras_model(model)\n",
    "with open(\"128x3-CNN.tflite\",\"wb\") as f:\n",
    "    f.write(tf_lite_converter.convert())"
   ]
  }
 ],
 "metadata": {
  "kernelspec": {
   "display_name": "Python 3 (ipykernel)",
   "language": "python",
   "name": "python3"
  },
  "language_info": {
   "codemirror_mode": {
    "name": "ipython",
    "version": 3
   },
   "file_extension": ".py",
   "mimetype": "text/x-python",
   "name": "python",
   "nbconvert_exporter": "python",
   "pygments_lexer": "ipython3",
   "version": "3.9.7"
  }
 },
 "nbformat": 4,
 "nbformat_minor": 5
}
